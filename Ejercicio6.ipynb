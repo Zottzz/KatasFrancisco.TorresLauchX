{
 "cells": [
  {
   "cell_type": "markdown",
   "metadata": {},
   "source": [
    "Listas"
   ]
  },
  {
   "cell_type": "code",
   "execution_count": 47,
   "metadata": {},
   "outputs": [
    {
     "name": "stdout",
     "output_type": "stream",
     "text": [
      "['Mercurio', 'Venus', 'Tierra', 'Marte', 'Jupiter', 'saturno', 'urano', 'neptupno']\n",
      "EL PLANETA: Marte\n",
      "['Mercurio', 'Venus', 'Tierra', 'Marte', 'Jupiter', 'saturno', 'urano', 'neptupno', 'Pluton']\n"
     ]
    }
   ],
   "source": [
    "#LISTA DE PLANETAS\n",
    "planets = [ 'Mercurio','Venus', 'Tierra','Marte','Jupiter','saturno','urano','neptupno' ]\n",
    "print(planets)\n",
    "print('EL PLANETA:',planets[3])\n",
    "\n",
    "#agregamos planeta a lista\n",
    "planets.append('Pluton')\n",
    "print(planets)"
   ]
  },
  {
   "cell_type": "code",
   "execution_count": 48,
   "metadata": {},
   "outputs": [
    {
     "name": "stdout",
     "output_type": "stream",
     "text": [
      "Marte\n"
     ]
    }
   ],
   "source": [
    "#Solicitamos  ingresar planeta\n",
    "solicitud = input ('ingresa el nombre del planeta deseado')\n",
    "print(solicitud)"
   ]
  },
  {
   "cell_type": "code",
   "execution_count": 49,
   "metadata": {},
   "outputs": [
    {
     "name": "stdout",
     "output_type": "stream",
     "text": [
      "marte es el planeta No:  4 cercano al sol\n"
     ]
    }
   ],
   "source": [
    "#buscamos valor en la lista\n",
    "\n",
    "\n",
    "planets_index = planets.index('Marte')\n",
    "print('marte es el planeta No: ', planets_index + 1, 'cercano al sol')\n",
    "\n",
    "\n"
   ]
  },
  {
   "cell_type": "code",
   "execution_count": 5,
   "metadata": {},
   "outputs": [
    {
     "ename": "NameError",
     "evalue": "name 'planets' is not defined",
     "output_type": "error",
     "traceback": [
      "\u001b[1;31m---------------------------------------------------------------------------\u001b[0m",
      "\u001b[1;31mNameError\u001b[0m                                 Traceback (most recent call last)",
      "\u001b[1;32mUntitled-1.ipynb Cell 5'\u001b[0m in \u001b[0;36m<module>\u001b[1;34m\u001b[0m\n\u001b[0;32m      <a href='vscode-notebook-cell:Untitled-1.ipynb?jupyter-notebook#ch0000006untitled?line=0'>1</a>\u001b[0m soli \u001b[39m=\u001b[39m \u001b[39minput\u001b[39m (\u001b[39m'\u001b[39m\u001b[39mEscribe\u001b[39m\u001b[39m'\u001b[39m)\n\u001b[1;32m----> <a href='vscode-notebook-cell:Untitled-1.ipynb?jupyter-notebook#ch0000006untitled?line=1'>2</a>\u001b[0m planet_index \u001b[39m=\u001b[39m planets\u001b[39m.\u001b[39mindex(soli)\n\u001b[0;32m      <a href='vscode-notebook-cell:Untitled-1.ipynb?jupyter-notebook#ch0000006untitled?line=4'>5</a>\u001b[0m \u001b[39mprint\u001b[39m(\u001b[39m'\u001b[39m\u001b[39mHere are the planets closer than \u001b[39m\u001b[39m'\u001b[39m \u001b[39m+\u001b[39m soli)\n\u001b[0;32m      <a href='vscode-notebook-cell:Untitled-1.ipynb?jupyter-notebook#ch0000006untitled?line=5'>6</a>\u001b[0m \u001b[39mprint\u001b[39m(planets[\u001b[39m0\u001b[39m \u001b[39m+\u001b[39m planet_index])\n",
      "\u001b[1;31mNameError\u001b[0m: name 'planets' is not defined"
     ]
    }
   ],
   "source": [
    "\n",
    "soli = input ('Escribe')\n",
    "planet_index = planets.index(soli)\n",
    "\n",
    "\n",
    "print('Here are the planets closer than ' + soli)\n",
    "print(planets[0 + planet_index])\n",
    "\n"
   ]
  },
  {
   "cell_type": "code",
   "execution_count": null,
   "metadata": {},
   "outputs": [],
   "source": [
    "# Muestra los planetas más lejanos al sol\n",
    "\n",
    "print('Here are the planets further than ' + solicitud)\n",
    "print(planets[planet_index + 1:])"
   ]
  }
 ],
 "metadata": {
  "interpreter": {
   "hash": "e8c13095cfd69ac5af6c86ef91e5ae0d447304244dec0c908db8aa0aae9438b4"
  },
  "kernelspec": {
   "display_name": "Python 3.10.2 64-bit",
   "language": "python",
   "name": "python3"
  },
  "language_info": {
   "codemirror_mode": {
    "name": "ipython",
    "version": 3
   },
   "file_extension": ".py",
   "mimetype": "text/x-python",
   "name": "python",
   "nbconvert_exporter": "python",
   "pygments_lexer": "ipython3",
   "version": "3.10.2"
  },
  "orig_nbformat": 4
 },
 "nbformat": 4,
 "nbformat_minor": 2
}
