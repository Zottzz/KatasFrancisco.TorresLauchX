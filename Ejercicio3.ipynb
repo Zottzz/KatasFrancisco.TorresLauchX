{
 "cells": [
  {
   "cell_type": "code",
   "execution_count": 4,
   "metadata": {},
   "outputs": [
    {
     "name": "stdout",
     "output_type": "stream",
     "text": [
      "55\n"
     ]
    }
   ],
   "source": [
    "# Tip de práctica 1: Intenta ejecutarlo en un notebook.\n",
    "a = 9\n",
    "b = 55\n",
    "# test expression / expresión de prueba\n",
    "if a < b:\n",
    "    # statement to be run / instrucción a ejecutar\n",
    "    print(b)"
   ]
  },
  {
   "cell_type": "code",
   "execution_count": 5,
   "metadata": {},
   "outputs": [
    {
     "name": "stdout",
     "output_type": "stream",
     "text": [
      "93\n"
     ]
    }
   ],
   "source": [
    "# Aplica el tip de práctica 1.\n",
    "a = 93\n",
    "b = 27\n",
    "if a >= b:\n",
    "    print(a)"
   ]
  },
  {
   "cell_type": "code",
   "execution_count": 6,
   "metadata": {},
   "outputs": [
    {
     "name": "stdout",
     "output_type": "stream",
     "text": [
      "44\n"
     ]
    }
   ],
   "source": [
    "a = 24\n",
    "b = 44\n",
    "if a <= 0:\n",
    "    print(a)\n",
    "print(b)    "
   ]
  },
  {
   "cell_type": "code",
   "execution_count": 18,
   "metadata": {},
   "outputs": [
    {
     "name": "stdout",
     "output_type": "stream",
     "text": [
      "20\n"
     ]
    }
   ],
   "source": [
    "v = 19\n",
    "P =20\n",
    "if P >= v:\n",
    "    print(P)"
   ]
  },
  {
   "cell_type": "code",
   "execution_count": 20,
   "metadata": {},
   "outputs": [
    {
     "name": "stdout",
     "output_type": "stream",
     "text": [
      "¡Sigue con tu día!\n"
     ]
    }
   ],
   "source": [
    "asteroide = 49\n",
    "if asteroide > 445:\n",
    "    print('¡Alerta! ¡Un asteroide se acerca a velocidades peligrosas!')\n",
    "else:\n",
    "    print('¡Sigue con tu día!')"
   ]
  },
  {
   "cell_type": "code",
   "execution_count": 25,
   "metadata": {},
   "outputs": [],
   "source": [
    "#True o False\n",
    "Vasteroide = 19\n",
    "if Vasteroide < 19 :\n",
    "    print('No se podra ver ninguna luz')\n",
    "elif Vasteroide == 20  :\n",
    "    print('LUZ , LUZ')\n",
    "else :\n",
    "    ('Mira luces en el cielo')\n",
    "\n"
   ]
  },
  {
   "cell_type": "code",
   "execution_count": 26,
   "metadata": {},
   "outputs": [],
   "source": [
    "Vasteroide = 20\n",
    "Tasteroide = 5\n",
    "\n",
    "if Vasteroide <= 20 and Tasteroide <=5 :\n",
    "    ('No se ve nada')\n",
    "elif Vasteroide >20 and Tasteroide >= 5:\n",
    "    ('Se alcanza a ver algo')\n",
    "elif Vasteroide >20 and Tasteroide <5:\n",
    "    ('Es muy pequeño para verse')\n",
    "elif Vasteroide >20 or Tasteroide >5:\n",
    "    print(' se ve algo')\n",
    "else:\n",
    "    print('nada que ver')"
   ]
  }
 ],
 "metadata": {
  "interpreter": {
   "hash": "e8c13095cfd69ac5af6c86ef91e5ae0d447304244dec0c908db8aa0aae9438b4"
  },
  "kernelspec": {
   "display_name": "Python 3.10.2 64-bit",
   "language": "python",
   "name": "python3"
  },
  "language_info": {
   "codemirror_mode": {
    "name": "ipython",
    "version": 3
   },
   "file_extension": ".py",
   "mimetype": "text/x-python",
   "name": "python",
   "nbconvert_exporter": "python",
   "pygments_lexer": "ipython3",
   "version": "3.10.2"
  },
  "orig_nbformat": 4
 },
 "nbformat": 4,
 "nbformat_minor": 2
}
