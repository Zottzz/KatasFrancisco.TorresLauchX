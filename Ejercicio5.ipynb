{
 "cells": [
  {
   "cell_type": "markdown",
   "metadata": {},
   "source": [
    "Distancia entre dos planetas"
   ]
  },
  {
   "cell_type": "code",
   "execution_count": 28,
   "metadata": {},
   "outputs": [
    {
     "name": "stdout",
     "output_type": "stream",
     "text": [
      "distancia entre  la tierra y jupiter 628949330 km\n",
      "distancia entre  la tierra y jupiter 390577533.93 Millas\n"
     ]
    }
   ],
   "source": [
    "Tierra  = int ('149597870 ') \n",
    "Jupiter = int ('778547200 ')\n",
    "dis     = Jupiter - Tierra \n",
    "print ('distancia entre  la tierra y jupiter', dis, 'km')\n",
    "print('distancia entre  la tierra y jupiter', dis * 0.621, 'Millas')"
   ]
  },
  {
   "cell_type": "code",
   "execution_count": 29,
   "metadata": {},
   "outputs": [],
   "source": [
    "# Almacenar las entradas del usuario\n",
    "#Pista: variable = input(\"¿Cuál es tu nombre?\")\n",
    "Hearth = input ('Cual es la distancia')  \n",
    "Jupyter= input ('distancia') \n"
   ]
  },
  {
   "cell_type": "code",
   "execution_count": null,
   "metadata": {},
   "outputs": [],
   "source": []
  },
  {
   "cell_type": "code",
   "execution_count": 30,
   "metadata": {},
   "outputs": [],
   "source": [
    "#convertir a entero\n",
    "Hearth = int (Hearth)\n",
    "Jupyter= int (Jupyter)"
   ]
  },
  {
   "cell_type": "code",
   "execution_count": 31,
   "metadata": {},
   "outputs": [
    {
     "name": "stdout",
     "output_type": "stream",
     "text": [
      "50300000\n",
      "31236300.0\n"
     ]
    }
   ],
   "source": [
    "dis_km = Jupyter - Hearth\n",
    "print(dis_km)\n",
    "\n",
    "dis_mi= dis_km * 0.621\n",
    "print(abs(dis_mi))\n"
   ]
  }
 ],
 "metadata": {
  "interpreter": {
   "hash": "e8c13095cfd69ac5af6c86ef91e5ae0d447304244dec0c908db8aa0aae9438b4"
  },
  "kernelspec": {
   "display_name": "Python 3.10.2 64-bit",
   "language": "python",
   "name": "python3"
  },
  "language_info": {
   "codemirror_mode": {
    "name": "ipython",
    "version": 3
   },
   "file_extension": ".py",
   "mimetype": "text/x-python",
   "name": "python",
   "nbconvert_exporter": "python",
   "pygments_lexer": "ipython3",
   "version": "3.10.2"
  },
  "orig_nbformat": 4
 },
 "nbformat": 4,
 "nbformat_minor": 2
}
